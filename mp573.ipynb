{
 "cells": [
  {
   "cell_type": "markdown",
   "metadata": {},
   "source": [
    "# Example: MP573 (Mathematical Methods in Medical Physics)"
   ]
  },
  {
   "cell_type": "markdown",
   "metadata": {},
   "source": [
    "### Table of Contents\n",
    "1. [Section 1: Fourier Analysis of 1D Signals](#section-1-fourier-analysis-of-1d-signals)\n",
    "2. [Section 2: Basic Optimization (Independent Practice)](#section-2-basic-optimization-independent-practice)"
   ]
  },
  {
   "cell_type": "markdown",
   "metadata": {},
   "source": [
    "---"
   ]
  },
  {
   "cell_type": "markdown",
   "metadata": {},
   "source": [
    "## Section 1: Fourier Analysis of 1D Signals\n",
    "The Fourier transform is a fundamental mathematical tool that plays a crucial role in signal analysis! You will use it quite often in MP573. It allows us to decompose a signal into the frequencies that make it up (or vice-versa).\n",
    "\n",
    "Some specific uses include:\n",
    "- Signal processing: It allows us to filter out noise, enhance specific frequencies, and reconstruct cleaner images or signals.\n",
    "- Image reconstruction: In techniques like MRI and CT, the Fourier transform is essential for converting raw data into meaningful images.\n",
    "- Data compression: By focusing on the most significant frequency components, we can compress medical data for more efficient storage and transmission.\n",
    "- System characterization: The Fourier transform helps us understand the frequency response of systems.\n",
    "- and many, many more!\n",
    "\n",
    "This toy example will cover basic noise filtering of a signal by thresholding its frequency spectrum."
   ]
  },
  {
   "cell_type": "markdown",
   "metadata": {},
   "source": [
    "#### Import useful packages"
   ]
  },
  {
   "cell_type": "code",
   "execution_count": null,
   "metadata": {},
   "outputs": [],
   "source": [
    "%matplotlib inline\n",
    "import numpy as np\n",
    "import matplotlib.pyplot as plt"
   ]
  },
  {
   "cell_type": "markdown",
   "metadata": {},
   "source": [
    "#### Generate and plot an example signal with two frequencies"
   ]
  },
  {
   "cell_type": "code",
   "execution_count": null,
   "metadata": {},
   "outputs": [],
   "source": [
    "t = np.linspace(-50, 50, 1001)\n",
    "freq1, freq2 = 0.1, 0.2\n",
    "\n",
    "signal = np.sin(2*np.pi*freq1*t) + np.sin(2*np.pi*freq2*t) \n",
    "\n",
    "plt.figure(figsize=(10, 5))\n",
    "plt.plot(t, signal)\n",
    "plt.title('Signal with two frequencies')\n",
    "plt.show()"
   ]
  },
  {
   "cell_type": "markdown",
   "metadata": {},
   "source": [
    "#### Signals are usually noisy, so let's add some noise"
   ]
  },
  {
   "cell_type": "code",
   "execution_count": null,
   "metadata": {},
   "outputs": [],
   "source": [
    "noise_mean, noise_std = 0, 1\n",
    "noise = np.random.normal(noise_mean, noise_std, signal.shape)\n",
    "\n",
    "noisy_signal = signal + noise\n",
    "\n",
    "plt.figure(figsize=(10, 5))\n",
    "plt.plot(t, noisy_signal)\n",
    "plt.title('Noisy signal')\n",
    "plt.show()"
   ]
  },
  {
   "cell_type": "markdown",
   "metadata": {},
   "source": [
    "#### Signal analysis in the frequency domain"
   ]
  },
  {
   "cell_type": "code",
   "execution_count": null,
   "metadata": {},
   "outputs": [],
   "source": [
    "# The Fourier transform of the signal will show the frequency spectrum of the signal\n",
    "# We can estimate the original signal by filtering the noisy signal in the frequency domain\n",
    "signal_fft = np.fft.fftshift(np.fft.fft(noisy_signal))\n",
    "freqs = np.fft.fftshift(np.fft.fftfreq(t.shape[-1], t[1] - t[0]))\n",
    "\n",
    "plt.figure(figsize=(10, 5))\n",
    "plt.plot(freqs, np.abs(signal_fft))\n",
    "plt.xlim(-1, 1)\n",
    "plt.xlabel('Frequency')\n",
    "plt.ylabel('Amplitude')\n",
    "plt.title('Frequency spectrum of the noisy signal')\n",
    "plt.show()\n"
   ]
  },
  {
   "cell_type": "markdown",
   "metadata": {},
   "source": [
    "#### Filter out low-power signal components using simple thresholding"
   ]
  },
  {
   "cell_type": "code",
   "execution_count": null,
   "metadata": {},
   "outputs": [],
   "source": [
    "# We can use indexing and boolean expressions to find the indices of the frequencies we want to keep\n",
    "peak_indices = np.abs(signal_fft) > 100\n",
    "filtered_fft = signal_fft.copy()\n",
    "filtered_fft[~peak_indices] = 0"
   ]
  },
  {
   "cell_type": "code",
   "execution_count": null,
   "metadata": {},
   "outputs": [],
   "source": [
    "plt.figure(figsize=(10, 5))\n",
    "plt.plot(freqs, np.abs(filtered_fft))\n",
    "plt.axhline(100, color='red', linestyle='--')\n",
    "plt.scatter(freqs[peak_indices], np.abs(filtered_fft)[peak_indices], color='red', marker='x')\n",
    "plt.xlim(-1, 1)\n",
    "plt.xlabel('Frequency')\n",
    "plt.ylabel('Amplitude')\n",
    "plt.title('Frequency spectrum of the filtered signal')\n",
    "plt.show()"
   ]
  },
  {
   "cell_type": "markdown",
   "metadata": {},
   "source": [
    "#### Convert the filtered signal back to the time domain"
   ]
  },
  {
   "cell_type": "code",
   "execution_count": null,
   "metadata": {},
   "outputs": [],
   "source": [
    "# The inverse Fourier transform will give us the filtered signal\n",
    "filtered_signal = np.fft.ifft(np.fft.ifftshift(filtered_fft))\n",
    "\n",
    "plt.figure(figsize=(10, 5))\n",
    "plt.plot(t, np.real(filtered_signal))\n",
    "plt.title('Filtered signal')\n",
    "plt.show()"
   ]
  },
  {
   "cell_type": "markdown",
   "metadata": {},
   "source": [
    "---"
   ]
  },
  {
   "cell_type": "markdown",
   "metadata": {},
   "source": [
    "## Section 2: Basic Optimization (Independent Practice)"
   ]
  },
  {
   "cell_type": "markdown",
   "metadata": {},
   "source": [
    "Optimization is another key medical physics concept that you will cover in MP573! It involves finding the best possible solution to a problem within given constraints. \n",
    "\n",
    "In medical physics, optimization is applied in numerous areas, including:\n",
    "- Image reconstruction: Improving image quality by finding the best parameters for reconstruction algorithms in CT, MRI, and other imaging modalities.\n",
    "- Treatment planning: Determining the optimal arrangement of radiation beams or radioactive sources to achieve the desired therapeutic effect.\n",
    "- Diagnostic imaging: Balancing image quality with radiation dose in X-ray and CT imaging.\n",
    "- and much, much more!\n",
    "\n",
    "Typically, our search spaces are large and complex, requiring iterative optimization methods. These methods often involve defining an objective function (sometimes called a cost function or fitness function) that quantifies the quality of a solution, and then systematically searching for the values that minimize or maximize this function. This toy example illustrates how we might use gradient descent, a common optimization algorithm (and the cornerstone of most AI training algorithms!), to minimize a simple function."
   ]
  },
  {
   "cell_type": "markdown",
   "metadata": {},
   "source": [
    "## Problem\n",
    "##### Find the parameters (x, y) that minimize the following objective function\n",
    "$$f(x, y) = (x-2)^2 + (y-3)^2$$\n",
    "\n",
    "\n",
    "##### For our gradient descent algorithm, we need to know the gradient of our objective function.\n",
    "$$\\nabla f(x, y) = \\begin{bmatrix} \\frac{\\partial f}{\\partial x} \\\\ \\frac{\\partial f}{\\partial y} \\end{bmatrix} = \\begin{bmatrix} 2(x-2) \\\\ 2(y-3) \\end{bmatrix}$$"
   ]
  },
  {
   "cell_type": "markdown",
   "metadata": {},
   "source": [
    "#### Import useful packages"
   ]
  },
  {
   "cell_type": "code",
   "execution_count": null,
   "metadata": {},
   "outputs": [],
   "source": [
    "%matplotlib inline\n",
    "import numpy as np\n",
    "import matplotlib.pyplot as plt\n",
    "from tqdm import tqdm # tqdm is a library that provides a progress bar around for loops - useful for monitoring long-running processes"
   ]
  },
  {
   "cell_type": "markdown",
   "metadata": {},
   "source": [
    "#### Define the objective function (cost function) and its gradient"
   ]
  },
  {
   "cell_type": "code",
   "execution_count": null,
   "metadata": {},
   "outputs": [],
   "source": [
    "# Objective function to minimize\n",
    "def objective_function(x, y):\n",
    "    return (x - 2)**2 + (y - 3)**2\n",
    "\n",
    "# Gradient of the objective function\n",
    "def gradient(x, y):\n",
    "    dx = 2 * (x - 2)\n",
    "    dy = 2 * (y - 3)\n",
    "    return np.array([dx, dy])"
   ]
  },
  {
   "cell_type": "markdown",
   "metadata": {},
   "source": [
    "#### Define our basic gradient descent optimization function"
   ]
  },
  {
   "cell_type": "code",
   "execution_count": null,
   "metadata": {},
   "outputs": [],
   "source": [
    "# Gradient descent evaluates the gradient at the current point and takes a step in the direction opposite to the gradient\n",
    "# The step size is determined by the learning rate\n",
    "# The process is repeated for a fixed number of iterations\n",
    "# After many iterations, the point will converge to the minimum of the objective function\n",
    "def gradient_descent(start_point, learning_rate, num_iterations):\n",
    "    path = [start_point]\n",
    "    point = np.array(start_point)\n",
    "    \n",
    "    for _ in tqdm(range(num_iterations)):\n",
    "        grad = gradient(point[0], point[1])\n",
    "        point = point - learning_rate * grad\n",
    "        path.append(point)\n",
    "    \n",
    "    return np.array(path)"
   ]
  },
  {
   "cell_type": "markdown",
   "metadata": {},
   "source": [
    "#### Now, set up and run our optimization function"
   ]
  },
  {
   "cell_type": "code",
   "execution_count": null,
   "metadata": {},
   "outputs": [],
   "source": [
    "# Set up the optimization\n",
    "start_point = [-1, 6]\n",
    "learning_rate = 0.1\n",
    "num_iterations = 50\n",
    "\n",
    "# Run the optimization\n",
    "optimization_path = gradient_descent(start_point, learning_rate, num_iterations)"
   ]
  },
  {
   "cell_type": "markdown",
   "metadata": {},
   "source": [
    "#### Visualize the optimization path and the result!"
   ]
  },
  {
   "cell_type": "code",
   "execution_count": null,
   "metadata": {},
   "outputs": [],
   "source": [
    "# Create a grid of points\n",
    "x = np.linspace(-2, 6, 100)\n",
    "y = np.linspace(-2, 8, 100)\n",
    "X, Y = np.meshgrid(x, y)\n",
    "Z = objective_function(X, Y)\n",
    "\n",
    "# Plot the results\n",
    "plt.figure(figsize=(12, 8))\n",
    "plt.contour(X, Y, Z, levels=250, cmap='viridis')\n",
    "plt.colorbar(label='Objective Function Value')\n",
    "plt.plot(optimization_path[:, 0], optimization_path[:, 1], 'ro-', linewidth=1.5, markersize=5)\n",
    "plt.plot(2, 3, 'g*', markersize=15, label='Global Minimum')\n",
    "plt.title('Gradient Descent Optimization')\n",
    "plt.xlabel('x')\n",
    "plt.ylabel('y')\n",
    "plt.legend()\n",
    "plt.grid(True)\n",
    "plt.show()"
   ]
  },
  {
   "cell_type": "markdown",
   "metadata": {},
   "source": [
    "#### Print the final optimized values"
   ]
  },
  {
   "cell_type": "code",
   "execution_count": null,
   "metadata": {},
   "outputs": [],
   "source": [
    "print(f\"Optimized solution: x = {optimization_path[-1, 0]:.4f}, y = {optimization_path[-1, 1]:.4f}\")\n",
    "print(f\"Minimum objective function value: {objective_function(*optimization_path[-1]):.4f}\")"
   ]
  }
 ],
 "metadata": {
  "kernelspec": {
   "display_name": "cadq",
   "language": "python",
   "name": "python3"
  },
  "language_info": {
   "codemirror_mode": {
    "name": "ipython",
    "version": 3
   },
   "file_extension": ".py",
   "mimetype": "text/x-python",
   "name": "python",
   "nbconvert_exporter": "python",
   "pygments_lexer": "ipython3",
   "version": "3.10.13"
  },
  "vscode": {
   "interpreter": {
    "hash": "0ec5992d6f28419b9bba1c7e3ed1e10c5403fce73b2e71b0ccfaf2969821c5eb"
   }
  }
 },
 "nbformat": 4,
 "nbformat_minor": 2
}
