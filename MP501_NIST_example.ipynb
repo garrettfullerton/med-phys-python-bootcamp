{
 "cells": [
  {
   "cell_type": "code",
   "execution_count": null,
   "metadata": {},
   "outputs": [],
   "source": [
    "!pip install matplotlib"
   ]
  },
  {
   "attachments": {},
   "cell_type": "markdown",
   "metadata": {},
   "source": [
    "# Code Example: MP501 - Retrieving numerical attenuation coefficients from NIST\n",
    "In MP501, you will often use data from the National Institute of Standards and Technology [(NIST)](https://physics.nist.gov/PhysRefData/XrayMassCoef/tab3.html). This is problematic due to the fact the data is not easily stored for electronic use. Each attenuation coefficient table will have three columns:\n",
    "\n",
    "\\begin{array}{ccc}\n",
    "Energy&μ/ρ&μ_{en}/ρ\n",
    "\\end{array}\n",
    "\n",
    "And due to the way you select text, you can only extract individual or groups of rows as opposed to individual columns. This is an issue in that a lot of the time, you may want to specifically use Energy and $μ_{en}$ and we need a way to isolate just those parts of the data.\n",
    "\n",
    "---\n",
    "\n",
    "## Copying the table as a string\n",
    "A work around for this is to copy it as a string, and individually go through each element, extracting specficially the values that are relevent to what we are doing. Defining the string using triple apostraphies (```''' string goes here '''```) will conserve the new lines for every row.\n",
    "\n",
    "## Converting the string to a list\n",
    "Using the string method ```.split()``` will seperate the string at each 'white space', or every space, tab, new line, et cetera, turning it into a massive 1 x\n",
    "N list, where N is the total number of entries. This can be found in python by using the function ```len( my_list )```.\n",
    "\n",
    "## Relationship between index and element\n",
    "We can now iterate through this list, and extract elements based off of their indicies. We know the list has 3 columns, going left to right across these, the 0th index is Energy, the 1st index is μ/ρ, the 2nd index is $μ_{en}$, the 3rd index is back to Energy as follows:\n",
    "\n",
    "\\begin{array}{ccc}\n",
    "Energy&μ/ρ&μ_{en}/ρ\\\\\\\n",
    "0&1&2\\\\\\\n",
    "3&4&5\\\\\\\n",
    "6&7&8\\\\\\\n",
    "9&10&11\\\\\\\n",
    "\\end{array}\n",
    "\n",
    "Following this logic, we see the indicies follow this pattern where _i_ starts from 0 and iterates to the number of rows (N / #Columns):\n",
    "\\begin{array}{c}\n",
    "Energy\\:Index = i * 3 \\\\\n",
    "μ/ρ\\:Index = i * 3 + 1 \\\\\n",
    "μ_{en}/ρ\\:Index = i * 3 + 2\n",
    "\\end{array}\n",
    "\n",
    "Further more, we can iterate through the number of rows by using the function ```arange( N / #Columns)```\n",
    "\n",
    "## Changing the type from string to float\n",
    "The elements at this point are all stored as a individual strings within the list. Because every character in the string represents a numercial value, we can change the type from ```str``` to ```float``` by using the function ```float('string')```, returning the same number as a float.\n",
    "\n",
    "## Appending each element to respective, organized lists\n",
    "As we iterate through the original, master list and seperate it into groups, we can append the values directly to a predefined list through the list method ```.append( val )```.\n",
    "\n",
    "## Converting from a type ```list``` to a type ```np.ndarray```\n",
    "Finally we can convert the final list to a np.ndarray using the function ```np.array()``` from the numpy package.\n",
    "\n",
    "---\n",
    "\n",
    "## Applying:\n",
    "\n",
    "Below, I have copied and pasted the ascii table for carbon:"
   ]
  },
  {
   "cell_type": "code",
   "execution_count": null,
   "metadata": {},
   "outputs": [],
   "source": [
    "NIST_carbon = \"\"\"1.00000E-03  2.211E+03  2.209E+03\n",
    "1.50000E-03  7.002E+02  6.990E+02\n",
    "2.00000E-03  3.026E+02  3.016E+02\n",
    "3.00000E-03  9.033E+01  8.963E+01\n",
    "4.00000E-03  3.778E+01  3.723E+01\n",
    "5.00000E-03  1.912E+01  1.866E+01\n",
    "6.00000E-03  1.095E+01  1.054E+01\n",
    "8.00000E-03  4.576E+00  4.242E+00\n",
    "1.00000E-02  2.373E+00  2.078E+00\n",
    "1.50000E-02  8.071E-01  5.627E-01\n",
    "2.00000E-02  4.420E-01  2.238E-01\n",
    "3.00000E-02  2.562E-01  6.614E-02\n",
    "4.00000E-02  2.076E-01  3.343E-02\n",
    "5.00000E-02  1.871E-01  2.397E-02\n",
    "6.00000E-02  1.753E-01  2.098E-02\n",
    "8.00000E-02  1.610E-01  2.037E-02\n",
    "1.00000E-01  1.514E-01  2.147E-02\n",
    "1.50000E-01  1.347E-01  2.449E-02\n",
    "2.00000E-01  1.229E-01  2.655E-02\n",
    "3.00000E-01  1.066E-01  2.870E-02\n",
    "4.00000E-01  9.546E-02  2.950E-02\n",
    "5.00000E-01  8.715E-02  2.969E-02\n",
    "6.00000E-01  8.058E-02  2.956E-02\n",
    "8.00000E-01  7.076E-02  2.885E-02\n",
    "1.00000E+00  6.361E-02  2.792E-02\n",
    "1.25000E+00  5.690E-02  2.669E-02\n",
    "1.50000E+00  5.179E-02  2.551E-02\n",
    "2.00000E+00  4.442E-02  2.345E-02\n",
    "3.00000E+00  3.562E-02  2.048E-02\n",
    "4.00000E+00  3.047E-02  1.849E-02\n",
    "5.00000E+00  2.708E-02  1.710E-02\n",
    "6.00000E+00  2.469E-02  1.607E-02\n",
    "8.00000E+00  2.154E-02  1.468E-02\n",
    "1.00000E+01  1.959E-02  1.380E-02\n",
    "1.50000E+01  1.698E-02  1.258E-02\n",
    "2.00000E+01  1.575E-02  1.198E-02\n",
    "\"\"\""
   ]
  },
  {
   "attachments": {},
   "cell_type": "markdown",
   "metadata": {},
   "source": [
    "Now we can write a for loop script to seperate the elements into grouped lists:"
   ]
  },
  {
   "cell_type": "code",
   "execution_count": 1,
   "metadata": {},
   "outputs": [
    {
     "ename": "NameError",
     "evalue": "name 'NIST_carbon' is not defined",
     "output_type": "error",
     "traceback": [
      "\u001b[0;31m---------------------------------------------------------------------------\u001b[0m",
      "\u001b[0;31mNameError\u001b[0m                                 Traceback (most recent call last)",
      "Cell \u001b[0;32mIn[1], line 2\u001b[0m\n\u001b[1;32m      1\u001b[0m \u001b[39m# Spliting the big string (above) into a list of smaller strings\u001b[39;00m\n\u001b[0;32m----> 2\u001b[0m data_list \u001b[39m=\u001b[39m NIST_carbon\u001b[39m.\u001b[39msplit()\n\u001b[1;32m      4\u001b[0m \u001b[39m# Finding the number of rows in the data, knowing there are 3 columns:\u001b[39;00m\n\u001b[1;32m      5\u001b[0m num_rows \u001b[39m=\u001b[39m \u001b[39mint\u001b[39m(\u001b[39mlen\u001b[39m(data_list) \u001b[39m/\u001b[39m \u001b[39m3\u001b[39m)\n",
      "\u001b[0;31mNameError\u001b[0m: name 'NIST_carbon' is not defined"
     ]
    }
   ],
   "source": [
    "# Spliting the big string (above) into a list of smaller strings\n",
    "data_list = NIST_carbon.split()\n",
    "\n",
    "# Finding the number of rows in the data, knowing there are 3 columns:\n",
    "num_rows = int(len(data_list) / 3)\n",
    "\n",
    "# Defining empty lists to hold the respective groups\n",
    "energy = []\n",
    "atten = []\n",
    "absorp = []\n",
    "\n",
    "# Defining the for loop to iterate over the number of rows\n",
    "for i in range(num_rows):\n",
    "  # energy is found in indicies 0, 3, 6, 9 ...\n",
    "  i_energy = i * 3\n",
    "  # attenuation is found in indicies 1, 4, 7, 10 ...\n",
    "  i_atten = (i * 3) + 1\n",
    "  # absorption is found in indicies 2, 5, 8, 11 ...\n",
    "  i_absorp = (i * 3) + 2\n",
    "\n",
    "  # Pull the data based on their index\n",
    "  str_energy = data_list[i_energy]\n",
    "  str_atten = data_list[i_atten]\n",
    "  str_absorp = data_list[i_absorp]\n",
    "\n",
    "  # Convert the data to a float\n",
    "  float_energy = float(str_energy)\n",
    "  float_atten = float(str_atten)\n",
    "  float_absorp = float(str_absorp)\n",
    "\n",
    "  # append the data to their lists\n",
    "  energy.append(float_energy)\n",
    "  atten.append(float_atten)\n",
    "  absorp.append(float_absorp)"
   ]
  },
  {
   "cell_type": "code",
   "execution_count": null,
   "metadata": {},
   "outputs": [],
   "source": [
    "# As a QA check:\n",
    "print(f'Examining the energy values:')\n",
    "print(f'Data type: {type(energy)}')\n",
    "print(f'Length: {len(energy)}\\n')\n",
    "\n",
    "print(f'Examining the list of attenuation values:')\n",
    "print(f'Data type: {type(atten)}')\n",
    "print(f'Length: {len(atten)}\\n')\n",
    "\n",
    "print(f'Examining the list of absorption values:')\n",
    "print(f'Data type: {type(absorp)}')\n",
    "print(f'Length: {len(absorp)}\\n')"
   ]
  },
  {
   "cell_type": "code",
   "execution_count": null,
   "metadata": {},
   "outputs": [],
   "source": [
    "# importing the matplotlib pyplot package as plt\n",
    "import matplotlib.pyplot as plt\n",
    "\n",
    "# Defining the plotting space for a single plot\n",
    "fig, ax = plt.subplots(figsize=(5,4))\n",
    "\n",
    "# Plotting the data\n",
    "ax.scatter(x=energy, y=atten, label=r'$\\rm\\mu/\\rho$')\n",
    "ax.scatter(x=energy, y=absorp, label=r'$\\rm\\mu_{en}/\\rho$')\n",
    "\n",
    "# Tailoring the plot to our needs (Labeling)\n",
    "ax.set_title(r'$\\rm\\mu/\\rho\\;vs\\;Energy$ for carbon', fontsize=20)\n",
    "ax.set_xlabel('Energy (MeV)', fontsize=16)\n",
    "ax.set_ylabel(r'Coefficient ($\\rm cm^2/g$)', fontsize=16)\n",
    "ax.legend(fontsize=14)\n",
    "\n",
    "# Tailoring the plot to our needs ()\n",
    "ax.set_yscale('log')\n",
    "ax.set_xscale('log')\n",
    "ax.tick_params(labelsize=14)\n",
    "\n",
    "plt.show()"
   ]
  },
  {
   "cell_type": "code",
   "execution_count": null,
   "metadata": {},
   "outputs": [],
   "source": []
  }
 ],
 "metadata": {
  "kernelspec": {
   "display_name": "work",
   "language": "python",
   "name": "python3"
  },
  "language_info": {
   "codemirror_mode": {
    "name": "ipython",
    "version": 3
   },
   "file_extension": ".py",
   "mimetype": "text/x-python",
   "name": "python",
   "nbconvert_exporter": "python",
   "pygments_lexer": "ipython3",
   "version": "3.10.0"
  },
  "orig_nbformat": 4,
  "vscode": {
   "interpreter": {
    "hash": "252264a34d161799bd39aad204a51967c68e9f535c5b1dfddf376bf7327a5eda"
   }
  }
 },
 "nbformat": 4,
 "nbformat_minor": 2
}
