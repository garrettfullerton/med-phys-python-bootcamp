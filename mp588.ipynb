{
 "cells": [
  {
   "cell_type": "code",
   "execution_count": null,
   "metadata": {},
   "outputs": [],
   "source": [
    "!pip install pandas matplotlib "
   ]
  },
  {
   "cell_type": "markdown",
   "metadata": {},
   "source": [
    "# Example: MP588 (Radiation Production and Detection)"
   ]
  },
  {
   "cell_type": "markdown",
   "metadata": {},
   "source": [
    "---"
   ]
  },
  {
   "cell_type": "markdown",
   "metadata": {},
   "source": [
    "## Spectrum Visualization and Finding Peaks\n",
    "Python has powerful tools for efficiently manipulating, analyzing, and visualizing data. We'll illustrate some of these capabilities for a common task in your medical physics coursework - visualizing and analyzing spectral data. \n"
   ]
  },
  {
   "cell_type": "markdown",
   "metadata": {},
   "source": [
    "#### Import useful packages"
   ]
  },
  {
   "cell_type": "code",
   "execution_count": null,
   "metadata": {},
   "outputs": [],
   "source": [
    "%matplotlib inline\n",
    "import pandas as pd\n",
    "import matplotlib.pyplot as plt"
   ]
  },
  {
   "cell_type": "markdown",
   "metadata": {},
   "source": [
    "#### Read in data from .csv file\n",
    "[**Pandas**](https://pandas.pydata.org/) is a Python package that we can use to interact with tabular data. **Pandas** stores data in a structure called a ```DataFrame```, which is essentially a table with rows and columns. This is the main package we will use to interact with spreadsheets (Excel files, csv files, etc) in Python."
   ]
  },
  {
   "cell_type": "markdown",
   "metadata": {},
   "source": [
    "We can use the ```pd.read_csv``` function to read our csv file into a pandas DataFrame. Using the ```.head()``` method on this dataframe, we can print the first 5 elements. Similarly, we can use the ```.tail()``` method to print the last 5 elements."
   ]
  },
  {
   "cell_type": "code",
   "execution_count": null,
   "metadata": {},
   "outputs": [],
   "source": [
    "path = 'data/spectrum.csv'\n",
    "\n",
    "## If you are using google colab, uncomment this:\n",
    "# from google.colab import drive\n",
    "# drive.mount('/content/drive')\n",
    "# %cd /content/drive/MyDrive/med-phys-python-bootcamp\n",
    "\n",
    "spectrum = pd.read_csv(path)\n",
    "print(f\"The spectrum variable has a type: {type(spectrum)}\")\n",
    "\n",
    "print(f\"\\nThe first 5 rows of the spectrum data are: \\n{spectrum.head()}\")\n",
    "print(f\"\\nThe last 5 rows of the spectrum data are: \\n{spectrum.tail()}\")"
   ]
  },
  {
   "cell_type": "markdown",
   "metadata": {},
   "source": [
    "To retrieve a specific column from a pandas DataFrame, we can call the name of the column using square brackets."
   ]
  },
  {
   "cell_type": "code",
   "execution_count": null,
   "metadata": {},
   "outputs": [],
   "source": [
    "all_counts = spectrum['Counts']\n",
    "\n",
    "# The .max() method gives us the maximum value of a column\n",
    "max_count = all_counts.max()\n",
    "\n",
    "print(f\"The maximum number of counts recorded in a single channel is: {max_count}\")"
   ]
  },
  {
   "cell_type": "markdown",
   "metadata": {},
   "source": [
    "## Data visualization\n",
    "We can use the [**matplotlib**](https://matplotlib.org/) library to visualize our spectrum data. We've imported the **matplotlib.pyplot** package under the alias **plt**, so we can call these functions using **plt** as shown in the below cells.\n",
    "\n",
    "First, let's use the ```help``` function to see the documentation for ```plt.plot()```, one of matplotlib's main functions for generating plots."
   ]
  },
  {
   "cell_type": "code",
   "execution_count": null,
   "metadata": {},
   "outputs": [],
   "source": [
    "# Show the documentation for plt.plot()\n",
    "help(plt.plot)"
   ]
  },
  {
   "cell_type": "code",
   "execution_count": null,
   "metadata": {},
   "outputs": [],
   "source": [
    "# Generate a matplotlib figure\n",
    "plt.figure(figsize=(10, 6))\n",
    "\n",
    "# Plot spectral counts vs. energy\n",
    "plt.plot(spectrum['Energy (keV)'], spectrum['Counts'])\n",
    "plt.xlabel('Energy (keV)')\n",
    "plt.ylabel('Counts')\n",
    "plt.title('My Spectrum')\n",
    "\n",
    "plt.show()"
   ]
  },
  {
   "cell_type": "markdown",
   "metadata": {},
   "source": [
    "Great! We have a plot of the data in our csv file. However, we would like to show only the most relevant energy levels. Let's try changing this plot to constrain the x-axis between 0 and 1000 keV. We'll do this by calling the ```plt.xlim``` function."
   ]
  },
  {
   "cell_type": "code",
   "execution_count": null,
   "metadata": {},
   "outputs": [],
   "source": [
    "# Show the documentation for plt.xlim()\n",
    "help(plt.xlim)"
   ]
  },
  {
   "cell_type": "code",
   "execution_count": null,
   "metadata": {},
   "outputs": [],
   "source": [
    "# Generate a matplotlib figure\n",
    "plt.figure(figsize=(10, 6))\n",
    "\n",
    "# Plot spectral counts vs. energy\n",
    "plt.plot(spectrum['Energy (keV)'], spectrum['Counts'])\n",
    "plt.xlabel('Energy (keV)')\n",
    "plt.ylabel('Counts')\n",
    "plt.title('My Spectrum')\n",
    "\n",
    "plt.xlim(0, 1000)\n",
    "\n",
    "plt.show()"
   ]
  },
  {
   "cell_type": "markdown",
   "metadata": {},
   "source": [
    "Fantastic. Now, we would like to change the scale on the y-axis. A log scale would better show the distribution of count values. We do this in matplotlib using the ```plt.semilogy``` function instead of ```plt.plot```."
   ]
  },
  {
   "cell_type": "code",
   "execution_count": null,
   "metadata": {},
   "outputs": [],
   "source": [
    "# Show the documentation for plt.semilogy()\n",
    "help(plt.semilogy)"
   ]
  },
  {
   "cell_type": "code",
   "execution_count": null,
   "metadata": {},
   "outputs": [],
   "source": [
    "# Generate a matplotlib figure\n",
    "plt.figure(figsize=(10, 6))\n",
    "\n",
    "# Plot spectral counts vs. energy\n",
    "plt.semilogy(spectrum['Energy (keV)'], spectrum['Counts'])\n",
    "plt.xlabel('Energy (keV)')\n",
    "plt.ylabel('Counts')\n",
    "plt.title('My Spectrum')\n",
    "\n",
    "plt.xlim(0, 1000)\n",
    "\n",
    "plt.show()"
   ]
  },
  {
   "cell_type": "markdown",
   "metadata": {},
   "source": [
    "Great! Now that our spectrum is displayed properly, let's use thresholding to find the peaks of this spectrum. Upon visual inspection, we see there are 4 major peaks. Let's use a threshold value of $10^3$ counts for the [0, 600] keV range, and let's use a threshold value of $10^2$ counts for the [600, 1000] keV range. We will use another package, **scipy**, to perform our thresholding."
   ]
  },
  {
   "cell_type": "code",
   "execution_count": null,
   "metadata": {},
   "outputs": [],
   "source": [
    "# Generate a matplotlib figure\n",
    "plt.figure(figsize=(10, 6))\n",
    "\n",
    "# Plot spectral counts vs. energy\n",
    "plt.semilogy(spectrum['Energy (keV)'], spectrum['Counts'])\n",
    "plt.xlabel('Energy (keV)')\n",
    "plt.ylabel('Counts')\n",
    "plt.title('My Spectrum')\n",
    "\n",
    "plt.xlim(0, 1000)\n",
    "\n",
    "plt.axhline(y=10**3, xmin=0/1000, xmax=600/1000, linestyle='--', color='red')\n",
    "plt.axhline(y=10**2, xmin=600/1000, xmax=1000/1000, linestyle='--', color='red')\n",
    "\n",
    "plt.show()"
   ]
  },
  {
   "cell_type": "code",
   "execution_count": null,
   "metadata": {},
   "outputs": [],
   "source": [
    "# Import the find_peaks function from scipy\n",
    "from scipy.signal import find_peaks\n",
    "\n",
    "# First, filter our original dataframe into two dataframes according to each energy level range\n",
    "first_energy_range_df = spectrum[(spectrum['Energy (keV)'] > 0) & (spectrum['Energy (keV)'] <= 600)].reset_index()\n",
    "second_energy_range_df = spectrum[(spectrum['Energy (keV)'] >= 600) & (spectrum['Energy (keV)'] <= 1000)].reset_index()\n",
    "\n",
    "# Next, we will use scipy to find the peaks in each of our new dataframes\n",
    "first_thresh_indices_scipy, _ = find_peaks(first_energy_range_df['Counts'], height=10**3)\n",
    "second_thresh_indices_scipy, _ = find_peaks(second_energy_range_df['Counts'], height=10**2)\n",
    "\n",
    "first_range_thresh_rows = first_energy_range_df.loc[first_thresh_indices_scipy]\n",
    "second_range_thresh_rows = second_energy_range_df.loc[second_thresh_indices_scipy]\n",
    "\n",
    "# Finally, we can combine the thresholded rows into a single dataframe\n",
    "threshold_spectrum = pd.concat([first_range_thresh_rows, second_range_thresh_rows])\n",
    "\n",
    "print(f\"The peak values that meet our threshold criteria are:\\n{threshold_spectrum}\")"
   ]
  },
  {
   "cell_type": "code",
   "execution_count": null,
   "metadata": {},
   "outputs": [],
   "source": [
    "# Generate a matplotlib figure\n",
    "plt.figure(figsize=(10, 6))\n",
    "\n",
    "# Plot spectral counts vs. energy\n",
    "plt.semilogy(spectrum['Energy (keV)'], spectrum['Counts'])\n",
    "plt.xlabel('Energy (keV)')\n",
    "plt.ylabel('Counts')\n",
    "plt.title('My Spectrum')\n",
    "\n",
    "plt.xlim(0, 1000)\n",
    "\n",
    "# Visualize the peaks\n",
    "plt.semilogy(threshold_spectrum['Energy (keV)'], threshold_spectrum['Counts'], 'ro')\n",
    "\n",
    "plt.show()"
   ]
  },
  {
   "cell_type": "code",
   "execution_count": null,
   "metadata": {},
   "outputs": [],
   "source": []
  }
 ],
 "metadata": {
  "kernelspec": {
   "display_name": "work",
   "language": "python",
   "name": "python3"
  },
  "language_info": {
   "codemirror_mode": {
    "name": "ipython",
    "version": 3
   },
   "file_extension": ".py",
   "mimetype": "text/x-python",
   "name": "python",
   "nbconvert_exporter": "python",
   "pygments_lexer": "ipython3",
   "version": "3.10.0"
  },
  "vscode": {
   "interpreter": {
    "hash": "252264a34d161799bd39aad204a51967c68e9f535c5b1dfddf376bf7327a5eda"
   }
  }
 },
 "nbformat": 4,
 "nbformat_minor": 2
}
